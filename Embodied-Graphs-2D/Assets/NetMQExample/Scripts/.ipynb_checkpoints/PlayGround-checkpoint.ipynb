{
 "cells": [
  {
   "cell_type": "code",
   "execution_count": 62,
   "metadata": {},
   "outputs": [],
   "source": [
    "import json \n",
    "import networkx as nx\n",
    "from networkx.algorithms import community"
   ]
  },
  {
   "cell_type": "code",
   "execution_count": 8,
   "metadata": {},
   "outputs": [],
   "source": [
    "def unpackJson():\n",
    "    \n",
    "    f = open(\"../../Resources/data.json\",)\n",
    "    graph_dict = json.load(f) \n",
    "    #print(graph_dict) \n",
    "    \n",
    "    all_graphs = []\n",
    "        \n",
    "    for cur_graph in graph_dict['graphs']:\n",
    "\n",
    "        each_graph = {\"node\": None, \"edges\": None, \"simplices\": None, \"hyperedges\": None}\n",
    "\n",
    "        graph_edge_list = []    \n",
    "        for cur_edge in cur_graph['edges']:\n",
    "            temp_edge = []\n",
    "            temp_edge.append(cur_edge['edge_start'])\n",
    "            temp_edge.append(cur_edge['edge_end'])\n",
    "            graph_edge_list.append((temp_edge))\n",
    "\n",
    "        simplicial_edge_list = []    \n",
    "        for cur_edge in cur_graph['simplicials']:\n",
    "            temp_edge = cur_edge['nodes']        \n",
    "            simplicial_edge_list.append((temp_edge))    \n",
    "\n",
    "        hypergraph_edge_list = []    \n",
    "        for cur_edge in cur_graph['hyperedges']:\n",
    "            temp_edge = cur_edge['nodes']        \n",
    "            hypergraph_edge_list.append((temp_edge))\n",
    "\n",
    "        each_graph[\"node\"] = cur_graph['nodes']\n",
    "        each_graph[\"edges\"] = graph_edge_list\n",
    "        each_graph[\"simplices\"] = simplicial_edge_list\n",
    "        each_graph[\"hyperedges\"] = hypergraph_edge_list\n",
    "\n",
    "        all_graphs.append(each_graph)\n",
    "        #print(each_graph)   \n",
    "        \n",
    "    return all_graphs"
   ]
  },
  {
   "cell_type": "code",
   "execution_count": 10,
   "metadata": {},
   "outputs": [],
   "source": [
    "def packJson(G):\n",
    "    edges = []\n",
    "    for cur_edge in G.edges():\n",
    "        cur_edge = list(cur_edge)\n",
    "\n",
    "        edges.append({\"edge_start\":cur_edge[0], \"edge_end\":cur_edge[-1], \"weight\":1})\n",
    "\n",
    "\n",
    "    graph = {\"edges\":edges,\"simplicials\":[],\"hyperedges\":[],\"nodes\":list(G.nodes())}\n",
    "    print(graph)\n",
    "\n",
    "    with open(\"../../Resources/output.json\", 'w') as json_file:\n",
    "        json.dump(graph, json_file)"
   ]
  },
  {
   "cell_type": "code",
   "execution_count": 9,
   "metadata": {},
   "outputs": [],
   "source": [
    "def graph_addition(all_graphs):\n",
    "    \n",
    "    if (len(all_graphs) < 2):\n",
    "        return None\n",
    "    \n",
    "    G = nx.Graph()\n",
    "    G.add_nodes_from(all_graphs[0][\"node\"])\n",
    "    G.add_edges_from(all_graphs[0][\"edges\"])\n",
    "    \n",
    "    for iter in range(1, len(all_graphs)):\n",
    "    \n",
    "        G_2 = nx.Graph()\n",
    "        G_2.add_nodes_from(all_graphs[iter][\"node\"])\n",
    "        G_2.add_edges_from(all_graphs[iter][\"edges\"])\n",
    "\n",
    "        G_new = nx.compose(G,G_2)\n",
    "        G = G_new\n",
    "    \n",
    "    #plt.subplot(121)\n",
    "    #nx.draw(G_new, with_labels=True, font_weight='bold')\n",
    "    return G"
   ]
  },
  {
   "cell_type": "code",
   "execution_count": 38,
   "metadata": {},
   "outputs": [],
   "source": [
    "def topological_sort(all_graphs):\n",
    "        \n",
    "    DG = nx.DiGraph(list(all_graphs[0]['edges']))\n",
    "    nodes = list(nx.topological_sort(DG))\n",
    "    print(nodes)\n",
    "    \n",
    "    graph = {\"edges\":[],\"simplicials\":[],\"hyperedges\":[],\"nodes\":nodes}\n",
    "    print(graph)\n",
    "\n",
    "    with open(\"../../Resources/output.json\", 'w') as json_file:\n",
    "        json.dump(graph, json_file)\n",
    "    "
   ]
  },
  {
   "cell_type": "code",
   "execution_count": 27,
   "metadata": {},
   "outputs": [],
   "source": [
    "def find_shortest_path(all_graphs, source, target):    \n",
    "        \n",
    "    G = nx.Graph()\n",
    "    G.add_nodes_from(all_graphs[0][\"node\"])\n",
    "    G.add_edges_from(all_graphs[0][\"edges\"])\n",
    "    \n",
    "    try:\n",
    "        nodes = nx.shortest_path(G, source = source, target = target)\n",
    "\n",
    "        graph = {\"edges\":[],\"simplicials\":[],\"hyperedges\":[],\"nodes\":nodes}\n",
    "        print(graph)\n",
    "        \n",
    "    except:\n",
    "        graph = {\"edges\":[],\"simplicials\":[],\"hyperedges\":[],\"nodes\":[]}\n",
    "        print(graph)\n",
    "\n",
    "    with open(\"../../Resources/output.json\", 'w') as json_file:\n",
    "        json.dump(graph, json_file)"
   ]
  },
  {
   "cell_type": "code",
   "execution_count": 59,
   "metadata": {},
   "outputs": [],
   "source": [
    "def degree_centrality(all_graphs):\n",
    "    G = nx.Graph()\n",
    "    G.add_nodes_from(all_graphs[0][\"node\"])\n",
    "    G.add_edges_from(all_graphs[0][\"edges\"])\n",
    "    \n",
    "    try:\n",
    "        nodes = nx.degree_centrality(G)\n",
    "        nodes_pair = sorted(nodes.items(), key=lambda x: x[1], reverse=True)\n",
    "        \n",
    "        nodes = []\n",
    "        for item in nodes_pair:\n",
    "            nodes.append(item[0])\n",
    "\n",
    "        graph = {\"edges\":[],\"simplicials\":[],\"hyperedges\":[],\"nodes\":nodes}\n",
    "        print(graph)\n",
    "        \n",
    "    except:\n",
    "        graph = {\"edges\":[],\"simplicials\":[],\"hyperedges\":[],\"nodes\":[]}\n",
    "        print(graph)\n",
    "\n",
    "    with open(\"../../Resources/output.json\", 'w') as json_file:\n",
    "        json.dump(graph, json_file)\n",
    "        "
   ]
  },
  {
   "cell_type": "code",
   "execution_count": 72,
   "metadata": {},
   "outputs": [],
   "source": [
    "def community_detection(all_graphs):\n",
    "    \n",
    "    G = nx.Graph()\n",
    "    G.add_nodes_from(all_graphs[0][\"node\"])\n",
    "    G.add_edges_from(all_graphs[0][\"edges\"])\n",
    "    \n",
    "    try:\n",
    "        communities_generator = community.girvan_newman(G)\n",
    "        top_level_communities = next(communities_generator)\n",
    "        next_level_communities = next(communities_generator)\n",
    "        all_communities = sorted(map(sorted, next_level_communities))\n",
    "\n",
    "        graphs = []\n",
    "        for each_com in all_communities:\n",
    "            graphs.append({\"edges\":[],\"simplicials\":[],\"hyperedges\":[],\"nodes\":each_com})\n",
    "            \n",
    "    except:\n",
    "        graphs = []\n",
    "        graphs.append({\"edges\":[],\"simplicials\":[],\"hyperedges\":[],\"nodes\":all_graphs[0][\"node\"]})\n",
    "    \n",
    "    final_json = {\"graphs\":graphs}\n",
    "    print(final_json)\n",
    "    with open(\"../../Resources/output.json\", 'w') as json_file:\n",
    "        json.dump(final_json, json_file)"
   ]
  },
  {
   "cell_type": "code",
   "execution_count": 28,
   "metadata": {},
   "outputs": [
    {
     "ename": "AttributeError",
     "evalue": "'NoneType' object has no attribute 'edges'",
     "output_type": "error",
     "traceback": [
      "\u001b[1;31m---------------------------------------------------------------------------\u001b[0m",
      "\u001b[1;31mAttributeError\u001b[0m                            Traceback (most recent call last)",
      "\u001b[1;32m<ipython-input-28-6eb858b2b856>\u001b[0m in \u001b[0;36m<module>\u001b[1;34m\u001b[0m\n\u001b[0;32m      1\u001b[0m \u001b[0mG\u001b[0m \u001b[1;33m=\u001b[0m \u001b[0mgraph_addition\u001b[0m\u001b[1;33m(\u001b[0m\u001b[0munpackJson\u001b[0m\u001b[1;33m(\u001b[0m\u001b[1;33m)\u001b[0m\u001b[1;33m)\u001b[0m\u001b[1;33m\u001b[0m\u001b[0m\n\u001b[1;32m----> 2\u001b[1;33m \u001b[0mpackJson\u001b[0m\u001b[1;33m(\u001b[0m\u001b[0mG\u001b[0m\u001b[1;33m)\u001b[0m\u001b[1;33m\u001b[0m\u001b[0m\n\u001b[0m",
      "\u001b[1;32m<ipython-input-10-e7d34b64f830>\u001b[0m in \u001b[0;36mpackJson\u001b[1;34m(G)\u001b[0m\n\u001b[0;32m      1\u001b[0m \u001b[1;32mdef\u001b[0m \u001b[0mpackJson\u001b[0m\u001b[1;33m(\u001b[0m\u001b[0mG\u001b[0m\u001b[1;33m)\u001b[0m\u001b[1;33m:\u001b[0m\u001b[1;33m\u001b[0m\u001b[0m\n\u001b[0;32m      2\u001b[0m     \u001b[0medges\u001b[0m \u001b[1;33m=\u001b[0m \u001b[1;33m[\u001b[0m\u001b[1;33m]\u001b[0m\u001b[1;33m\u001b[0m\u001b[0m\n\u001b[1;32m----> 3\u001b[1;33m     \u001b[1;32mfor\u001b[0m \u001b[0mcur_edge\u001b[0m \u001b[1;32min\u001b[0m \u001b[0mG\u001b[0m\u001b[1;33m.\u001b[0m\u001b[0medges\u001b[0m\u001b[1;33m(\u001b[0m\u001b[1;33m)\u001b[0m\u001b[1;33m:\u001b[0m\u001b[1;33m\u001b[0m\u001b[0m\n\u001b[0m\u001b[0;32m      4\u001b[0m         \u001b[0mcur_edge\u001b[0m \u001b[1;33m=\u001b[0m \u001b[0mlist\u001b[0m\u001b[1;33m(\u001b[0m\u001b[0mcur_edge\u001b[0m\u001b[1;33m)\u001b[0m\u001b[1;33m\u001b[0m\u001b[0m\n\u001b[0;32m      5\u001b[0m \u001b[1;33m\u001b[0m\u001b[0m\n",
      "\u001b[1;31mAttributeError\u001b[0m: 'NoneType' object has no attribute 'edges'"
     ]
    }
   ],
   "source": [
    "G = graph_addition(unpackJson())\n",
    "packJson(G)"
   ]
  },
  {
   "cell_type": "code",
   "execution_count": 29,
   "metadata": {},
   "outputs": [
    {
     "name": "stdout",
     "output_type": "stream",
     "text": [
      "[{'node': [1, 2, 3], 'edges': [[2, 3], [1, 2]], 'simplices': [], 'hyperedges': []}]\n"
     ]
    },
    {
     "ename": "NameError",
     "evalue": "name 'topological_sort' is not defined",
     "output_type": "error",
     "traceback": [
      "\u001b[1;31m---------------------------------------------------------------------------\u001b[0m",
      "\u001b[1;31mNameError\u001b[0m                                 Traceback (most recent call last)",
      "\u001b[1;32m<ipython-input-29-d4308182d696>\u001b[0m in \u001b[0;36m<module>\u001b[1;34m\u001b[0m\n\u001b[0;32m      1\u001b[0m \u001b[0mall_graphs\u001b[0m \u001b[1;33m=\u001b[0m \u001b[0munpackJson\u001b[0m\u001b[1;33m(\u001b[0m\u001b[1;33m)\u001b[0m\u001b[1;33m\u001b[0m\u001b[0m\n\u001b[0;32m      2\u001b[0m \u001b[0mprint\u001b[0m\u001b[1;33m(\u001b[0m\u001b[0mall_graphs\u001b[0m\u001b[1;33m)\u001b[0m\u001b[1;33m\u001b[0m\u001b[0m\n\u001b[1;32m----> 3\u001b[1;33m \u001b[0mG\u001b[0m \u001b[1;33m=\u001b[0m \u001b[0mtopological_sort\u001b[0m\u001b[1;33m(\u001b[0m\u001b[0munpackJson\u001b[0m\u001b[1;33m(\u001b[0m\u001b[1;33m)\u001b[0m\u001b[1;33m)\u001b[0m\u001b[1;33m\u001b[0m\u001b[0m\n\u001b[0m\u001b[0;32m      4\u001b[0m \u001b[1;31m# packJson(G)\u001b[0m\u001b[1;33m\u001b[0m\u001b[1;33m\u001b[0m\u001b[0m\n",
      "\u001b[1;31mNameError\u001b[0m: name 'topological_sort' is not defined"
     ]
    }
   ],
   "source": [
    "all_graphs = unpackJson()\n",
    "print(all_graphs)\n",
    "G = topological_sort(unpackJson())\n",
    "# packJson(G)"
   ]
  },
  {
   "cell_type": "code",
   "execution_count": 33,
   "metadata": {},
   "outputs": [
    {
     "name": "stdout",
     "output_type": "stream",
     "text": [
      "[{'node': [1, 2, 3], 'edges': [[2, 3], [1, 2]], 'simplices': [], 'hyperedges': []}]\n",
      "{'edges': [], 'simplicials': [], 'hyperedges': [], 'nodes': [1, 2, 3]}\n"
     ]
    }
   ],
   "source": [
    "all_graphs = unpackJson()\n",
    "print(all_graphs)\n",
    "args = \"shortestpath_1_3\".split(\"_\")\n",
    "source, target =  args[1], args[-1]\n",
    "find_shortest_path(all_graphs, int(source), int(target))\n",
    "# G = find_shortest_path(unpackJson(), 1, 3)"
   ]
  },
  {
   "cell_type": "code",
   "execution_count": 60,
   "metadata": {},
   "outputs": [
    {
     "name": "stdout",
     "output_type": "stream",
     "text": [
      "{'edges': [], 'simplicials': [], 'hyperedges': [], 'nodes': [5, 4, 3, 1, 2]}\n"
     ]
    }
   ],
   "source": [
    "all_graphs = unpackJson()\n",
    "degree_centrality(all_graphs)\n",
    "# G = find_shortest_path(unpackJson(), 1, 3)"
   ]
  },
  {
   "cell_type": "code",
   "execution_count": 74,
   "metadata": {},
   "outputs": [
    {
     "ename": "StopIteration",
     "evalue": "",
     "output_type": "error",
     "traceback": [
      "\u001b[1;31m---------------------------------------------------------------------------\u001b[0m",
      "\u001b[1;31mStopIteration\u001b[0m                             Traceback (most recent call last)",
      "\u001b[1;32m<ipython-input-74-0bdf8729c53c>\u001b[0m in \u001b[0;36m<module>\u001b[1;34m\u001b[0m\n\u001b[0;32m      1\u001b[0m \u001b[0mall_graphs\u001b[0m \u001b[1;33m=\u001b[0m \u001b[0munpackJson\u001b[0m\u001b[1;33m(\u001b[0m\u001b[1;33m)\u001b[0m\u001b[1;33m\u001b[0m\u001b[0m\n\u001b[1;32m----> 2\u001b[1;33m \u001b[0mcommunity_detection\u001b[0m\u001b[1;33m(\u001b[0m\u001b[0mall_graphs\u001b[0m\u001b[1;33m)\u001b[0m\u001b[1;33m\u001b[0m\u001b[0m\n\u001b[0m",
      "\u001b[1;32m<ipython-input-72-cf9c37fe078f>\u001b[0m in \u001b[0;36mcommunity_detection\u001b[1;34m(all_graphs)\u001b[0m\n\u001b[0;32m      6\u001b[0m     \u001b[0mcommunities_generator\u001b[0m \u001b[1;33m=\u001b[0m \u001b[0mcommunity\u001b[0m\u001b[1;33m.\u001b[0m\u001b[0mgirvan_newman\u001b[0m\u001b[1;33m(\u001b[0m\u001b[0mG\u001b[0m\u001b[1;33m)\u001b[0m\u001b[1;33m\u001b[0m\u001b[0m\n\u001b[0;32m      7\u001b[0m     \u001b[0mtop_level_communities\u001b[0m \u001b[1;33m=\u001b[0m \u001b[0mnext\u001b[0m\u001b[1;33m(\u001b[0m\u001b[0mcommunities_generator\u001b[0m\u001b[1;33m)\u001b[0m\u001b[1;33m\u001b[0m\u001b[0m\n\u001b[1;32m----> 8\u001b[1;33m     \u001b[0mnext_level_communities\u001b[0m \u001b[1;33m=\u001b[0m \u001b[0mnext\u001b[0m\u001b[1;33m(\u001b[0m\u001b[0mcommunities_generator\u001b[0m\u001b[1;33m)\u001b[0m\u001b[1;33m\u001b[0m\u001b[0m\n\u001b[0m\u001b[0;32m      9\u001b[0m     \u001b[0mall_communities\u001b[0m \u001b[1;33m=\u001b[0m \u001b[0msorted\u001b[0m\u001b[1;33m(\u001b[0m\u001b[0mmap\u001b[0m\u001b[1;33m(\u001b[0m\u001b[0msorted\u001b[0m\u001b[1;33m,\u001b[0m \u001b[0mnext_level_communities\u001b[0m\u001b[1;33m)\u001b[0m\u001b[1;33m)\u001b[0m\u001b[1;33m\u001b[0m\u001b[0m\n\u001b[0;32m     10\u001b[0m \u001b[1;33m\u001b[0m\u001b[0m\n",
      "\u001b[1;31mStopIteration\u001b[0m: "
     ]
    }
   ],
   "source": [
    "all_graphs = unpackJson()\n",
    "community_detection(all_graphs)"
   ]
  },
  {
   "cell_type": "code",
   "execution_count": null,
   "metadata": {},
   "outputs": [],
   "source": []
  }
 ],
 "metadata": {
  "kernelspec": {
   "display_name": "Python 3",
   "language": "python",
   "name": "python3"
  },
  "language_info": {
   "codemirror_mode": {
    "name": "ipython",
    "version": 3
   },
   "file_extension": ".py",
   "mimetype": "text/x-python",
   "name": "python",
   "nbconvert_exporter": "python",
   "pygments_lexer": "ipython3",
   "version": "3.6.4"
  }
 },
 "nbformat": 4,
 "nbformat_minor": 2
}
