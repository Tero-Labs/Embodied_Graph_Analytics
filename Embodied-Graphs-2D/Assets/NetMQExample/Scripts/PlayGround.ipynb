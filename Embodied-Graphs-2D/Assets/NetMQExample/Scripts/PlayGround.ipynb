{
 "cells": [
  {
   "cell_type": "code",
   "execution_count": 21,
   "metadata": {},
   "outputs": [],
   "source": [
    "import json \n",
    "import networkx as nx"
   ]
  },
  {
   "cell_type": "code",
   "execution_count": 22,
   "metadata": {},
   "outputs": [],
   "source": [
    "def unpackJson():\n",
    "    \n",
    "    f = open(\"../../Resources/data.json\",)\n",
    "    graph_dict = json.load(f) \n",
    "    #print(graph_dict) \n",
    "    \n",
    "    all_graphs = []\n",
    "        \n",
    "    for cur_graph in graph_dict['graphs']:\n",
    "\n",
    "        each_graph = {\"node\": None, \"edges\": None, \"simplices\": None, \"hyperedges\": None}\n",
    "\n",
    "        graph_edge_list = []    \n",
    "        for cur_edge in cur_graph['edges']:\n",
    "            temp_edge = []\n",
    "            temp_edge.append(cur_edge['edge_start'])\n",
    "            temp_edge.append(cur_edge['edge_end'])\n",
    "            graph_edge_list.append((temp_edge))\n",
    "\n",
    "        simplicial_edge_list = []    \n",
    "        for cur_edge in cur_graph['simplicials']:\n",
    "            temp_edge = cur_edge['nodes']        \n",
    "            simplicial_edge_list.append((temp_edge))    \n",
    "\n",
    "        hypergraph_edge_list = []    \n",
    "        for cur_edge in cur_graph['hyperedges']:\n",
    "            temp_edge = cur_edge['nodes']        \n",
    "            hypergraph_edge_list.append((temp_edge))\n",
    "\n",
    "        each_graph[\"node\"] = cur_graph['nodes']\n",
    "        each_graph[\"edges\"] = graph_edge_list\n",
    "        each_graph[\"simplices\"] = simplicial_edge_list\n",
    "        each_graph[\"hyperedges\"] = hypergraph_edge_list\n",
    "\n",
    "        all_graphs.append(each_graph)\n",
    "        #print(each_graph)   \n",
    "        \n",
    "    return all_graphs"
   ]
  },
  {
   "cell_type": "code",
   "execution_count": 23,
   "metadata": {},
   "outputs": [],
   "source": [
    "def graph_addition(all_graphs):\n",
    "    \n",
    "    if (len(all_graphs) < 2):\n",
    "        return None\n",
    "    \n",
    "    G = nx.Graph()\n",
    "    G.add_nodes_from(all_graphs[0][\"node\"])\n",
    "    G.add_edges_from(all_graphs[0][\"edges\"])\n",
    "    \n",
    "    for iter in range(1, len(all_graphs)):\n",
    "    \n",
    "        G_2 = nx.Graph()\n",
    "        G_2.add_nodes_from(all_graphs[iter][\"node\"])\n",
    "        G_2.add_edges_from(all_graphs[iter][\"edges\"])\n",
    "\n",
    "        G_new = nx.compose(G,G_2)\n",
    "        G = G_new\n",
    "    \n",
    "    #plt.subplot(121)\n",
    "    #nx.draw(G_new, with_labels=True, font_weight='bold')\n",
    "    return G"
   ]
  },
  {
   "cell_type": "code",
   "execution_count": 32,
   "metadata": {},
   "outputs": [
    {
     "name": "stdout",
     "output_type": "stream",
     "text": [
      "{'edges': [{'edge_start': 14, 'edge_end': 15, 'weight': 1}, {'edge_start': 16, 'edge_end': 17, 'weight': 1}, {'edge_start': 18, 'edge_end': 19, 'weight': 1}, {'edge_start': 7, 'edge_end': 8, 'weight': 1}], 'simplicials': [], 'hyperedges': [], 'nodes': [14, 15, 16, 17, 18, 19, 7, 8]}\n"
     ]
    }
   ],
   "source": [
    "G = graph_addition(unpackJson())\n",
    "packJson(G)"
   ]
  },
  {
   "cell_type": "code",
   "execution_count": 31,
   "metadata": {},
   "outputs": [],
   "source": [
    "def packJson(G):\n",
    "    edges = []\n",
    "    for cur_edge in G.edges():\n",
    "        cur_edge = list(cur_edge)\n",
    "\n",
    "        edges.append({\"edge_start\":cur_edge[0], \"edge_end\":cur_edge[-1], \"weight\":1})\n",
    "\n",
    "\n",
    "    graph = {\"edges\":edges,\"simplicials\":[],\"hyperedges\":[],\"nodes\":list(G.nodes())}\n",
    "    print(graph)\n",
    "\n",
    "    with open(\"../../Resources/output.json\", 'w') as json_file:\n",
    "        json.dump(graph, json_file)"
   ]
  },
  {
   "cell_type": "code",
   "execution_count": 38,
   "metadata": {},
   "outputs": [],
   "source": [
    "def topological_sort(all_graphs):\n",
    "        \n",
    "    DG = nx.DiGraph(list(all_graphs[0]['edges']))\n",
    "    nodes = list(nx.topological_sort(DG))\n",
    "    print(nodes)\n",
    "    \n",
    "    graph = {\"edges\":[],\"simplicials\":[],\"hyperedges\":[],\"nodes\":nodes}\n",
    "    print(graph)\n",
    "\n",
    "    with open(\"../../Resources/output.json\", 'w') as json_file:\n",
    "        json.dump(graph, json_file)\n",
    "    "
   ]
  },
  {
   "cell_type": "code",
   "execution_count": 39,
   "metadata": {},
   "outputs": [
    {
     "name": "stdout",
     "output_type": "stream",
     "text": [
      "[{'node': [1, 2], 'edges': [[1, 2]], 'simplices': [], 'hyperedges': []}, {'node': [4, 5], 'edges': [[4, 5]], 'simplices': [], 'hyperedges': []}]\n",
      "[1, 2]\n",
      "{'edges': [], 'simplicials': [], 'hyperedges': [], 'nodes': [1, 2]}\n"
     ]
    }
   ],
   "source": [
    "all_graphs = unpackJson()\n",
    "print(all_graphs)\n",
    "G = topological_sort(unpackJson())\n",
    "# packJson(G)"
   ]
  },
  {
   "cell_type": "code",
   "execution_count": null,
   "metadata": {},
   "outputs": [],
   "source": []
  }
 ],
 "metadata": {
  "kernelspec": {
   "display_name": "Python 3",
   "language": "python",
   "name": "python3"
  },
  "language_info": {
   "codemirror_mode": {
    "name": "ipython",
    "version": 3
   },
   "file_extension": ".py",
   "mimetype": "text/x-python",
   "name": "python",
   "nbconvert_exporter": "python",
   "pygments_lexer": "ipython3",
   "version": "3.6.4"
  }
 },
 "nbformat": 4,
 "nbformat_minor": 2
}
