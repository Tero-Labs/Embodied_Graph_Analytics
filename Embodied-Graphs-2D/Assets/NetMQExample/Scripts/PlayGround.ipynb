{
 "cells": [
  {
   "cell_type": "code",
   "execution_count": 2,
   "metadata": {},
   "outputs": [],
   "source": [
    "import json \n",
    "import networkx as nx\n",
    "from networkx.algorithms import community"
   ]
  },
  {
   "cell_type": "code",
   "execution_count": 3,
   "metadata": {},
   "outputs": [],
   "source": [
    "import matplotlib.pyplot as plt"
   ]
  },
  {
   "cell_type": "code",
   "execution_count": 4,
   "metadata": {},
   "outputs": [],
   "source": [
    "def unpackJson():\n",
    "    \n",
    "    f = open(\"../../Resources/data.json\",)\n",
    "    graph_dict = json.load(f) \n",
    "    #print(graph_dict) \n",
    "    \n",
    "    all_graphs = []\n",
    "        \n",
    "    for cur_graph in graph_dict['graphs']:\n",
    "\n",
    "        each_graph = {\"node\": None, \"edges\": None, \"simplices\": None, \"hyperedges\": None}\n",
    "\n",
    "        graph_edge_list = []    \n",
    "        for cur_edge in cur_graph['edges']:\n",
    "            temp_edge = []\n",
    "            temp_edge.append(cur_edge['edge_start'])\n",
    "            temp_edge.append(cur_edge['edge_end'])\n",
    "            graph_edge_list.append((temp_edge))\n",
    "\n",
    "        simplicial_edge_list = []    \n",
    "        for cur_edge in cur_graph['simplicials']:\n",
    "            temp_edge = cur_edge['nodes']        \n",
    "            simplicial_edge_list.append((temp_edge))    \n",
    "\n",
    "        hypergraph_edge_list = []    \n",
    "        for cur_edge in cur_graph['hyperedges']:\n",
    "            temp_edge = cur_edge['nodes']        \n",
    "            hypergraph_edge_list.append((temp_edge))\n",
    "\n",
    "        each_graph[\"node\"] = cur_graph['nodes']\n",
    "        each_graph[\"edges\"] = graph_edge_list\n",
    "        each_graph[\"simplices\"] = simplicial_edge_list\n",
    "        each_graph[\"hyperedges\"] = hypergraph_edge_list\n",
    "\n",
    "        all_graphs.append(each_graph)\n",
    "        #print(each_graph)   \n",
    "        \n",
    "    return all_graphs"
   ]
  },
  {
   "cell_type": "code",
   "execution_count": 5,
   "metadata": {},
   "outputs": [],
   "source": [
    "def packJson(G):\n",
    "    edges = []\n",
    "    for cur_edge in G.edges():\n",
    "        cur_edge = list(cur_edge)\n",
    "\n",
    "        edges.append({\"edge_start\":cur_edge[0], \"edge_end\":cur_edge[-1], \"weight\":1})\n",
    "\n",
    "\n",
    "    graph = {\"edges\":edges,\"simplicials\":[],\"hyperedges\":[],\"nodes\":list(G.nodes())}\n",
    "    print(graph)\n",
    "\n",
    "    with open(\"../../Resources/output.json\", 'w') as json_file:\n",
    "        json.dump(graph, json_file)"
   ]
  },
  {
   "cell_type": "code",
   "execution_count": 6,
   "metadata": {},
   "outputs": [],
   "source": [
    "def graph_addition(all_graphs):\n",
    "    \n",
    "    if (len(all_graphs) < 2):\n",
    "        return None\n",
    "    \n",
    "    G = nx.Graph()\n",
    "    G.add_nodes_from(all_graphs[0][\"node\"])\n",
    "    G.add_edges_from(all_graphs[0][\"edges\"])\n",
    "    \n",
    "    for iter in range(1, len(all_graphs)):\n",
    "    \n",
    "        G_2 = nx.Graph()\n",
    "        G_2.add_nodes_from(all_graphs[iter][\"node\"])\n",
    "        G_2.add_edges_from(all_graphs[iter][\"edges\"])\n",
    "\n",
    "        G_new = nx.compose(G,G_2)\n",
    "        G = G_new\n",
    "    \n",
    "    #plt.subplot(121)\n",
    "    #nx.draw(G_new, with_labels=True, font_weight='bold')\n",
    "    return G"
   ]
  },
  {
   "cell_type": "code",
   "execution_count": 7,
   "metadata": {},
   "outputs": [],
   "source": [
    "def topological_sort(all_graphs):\n",
    "        \n",
    "    DG = nx.DiGraph(list(all_graphs[0]['edges']))\n",
    "    nodes = list(nx.topological_sort(DG))\n",
    "    print(nodes)\n",
    "    \n",
    "    graph = {\"edges\":[],\"simplicials\":[],\"hyperedges\":[],\"nodes\":nodes}\n",
    "    print(graph)\n",
    "\n",
    "    with open(\"../../Resources/output.json\", 'w') as json_file:\n",
    "        json.dump(graph, json_file)\n",
    "    "
   ]
  },
  {
   "cell_type": "code",
   "execution_count": 21,
   "metadata": {},
   "outputs": [],
   "source": [
    "def unpackWeightedJson():\n",
    "    \n",
    "    f = open(\"data.json\",)\n",
    "    #f = open(\"../../Resources/data.json\",)\n",
    "    graph_dict = json.load(f) \n",
    "    #print(graph_dict) \n",
    "    \n",
    "     \n",
    "    for cur_graph in graph_dict['graphs']:\n",
    "        \n",
    "        G = nx.Graph()\n",
    "        G.add_nodes_from(cur_graph['nodes'])\n",
    "        \n",
    "        for cur_edge in cur_graph['edges']:\n",
    "            G.add_edge(cur_edge['edge_start'], cur_edge['edge_end'], weight=cur_edge['weight'])\n",
    "                  \n",
    "        return G"
   ]
  },
  {
   "cell_type": "code",
   "execution_count": 30,
   "metadata": {},
   "outputs": [],
   "source": [
    "def find_shortest_path(G, source, target):    \n",
    "            \n",
    "    try:\n",
    "        nodes = nx.shortest_path(G, source = source, target = target, weight='weight')\n",
    "\n",
    "        graph = {\"edges\":[],\"simplicials\":[],\"hyperedges\":[],\"nodes\":nodes}\n",
    "        print(graph)\n",
    "        \n",
    "    except:\n",
    "        graph = {\"edges\":[],\"simplicials\":[],\"hyperedges\":[],\"nodes\":[]}\n",
    "        print(graph)\n",
    "\n",
    "    with open(\"../../Resources/output.json\", 'w') as json_file:\n",
    "        json.dump(graph, json_file)"
   ]
  },
  {
   "cell_type": "code",
   "execution_count": 23,
   "metadata": {},
   "outputs": [],
   "source": [
    "def degree_centrality(all_graphs):\n",
    "    G = nx.Graph()\n",
    "    G.add_nodes_from(all_graphs[0][\"node\"])\n",
    "    G.add_edges_from(all_graphs[0][\"edges\"])\n",
    "    \n",
    "    try:\n",
    "        nodes = nx.degree_centrality(G)\n",
    "        nodes_pair = sorted(nodes.items(), key=lambda x: x[1], reverse=True)\n",
    "        \n",
    "        nodes = []\n",
    "        for item in nodes_pair:\n",
    "            nodes.append(item[0])\n",
    "\n",
    "        graph = {\"edges\":[],\"simplicials\":[],\"hyperedges\":[],\"nodes\":nodes}\n",
    "        print(graph)\n",
    "        \n",
    "    except:\n",
    "        graph = {\"edges\":[],\"simplicials\":[],\"hyperedges\":[],\"nodes\":[]}\n",
    "        print(graph)\n",
    "\n",
    "    with open(\"../../Resources/output.json\", 'w') as json_file:\n",
    "        json.dump(graph, json_file)\n",
    "        "
   ]
  },
  {
   "cell_type": "code",
   "execution_count": 24,
   "metadata": {},
   "outputs": [],
   "source": [
    "def community_detection(all_graphs):\n",
    "    \n",
    "    G = nx.Graph()\n",
    "    G.add_nodes_from(all_graphs[0][\"node\"])\n",
    "    G.add_edges_from(all_graphs[0][\"edges\"])\n",
    "    \n",
    "    try:\n",
    "        communities_generator = community.girvan_newman(G)\n",
    "        top_level_communities = next(communities_generator)\n",
    "        next_level_communities = next(communities_generator)\n",
    "        all_communities = sorted(map(sorted, next_level_communities))\n",
    "\n",
    "        graphs = []\n",
    "        for each_com in all_communities:\n",
    "            graphs.append({\"edges\":[],\"simplicials\":[],\"hyperedges\":[],\"nodes\":each_com})\n",
    "            \n",
    "    except:\n",
    "        graphs = []\n",
    "        graphs.append({\"edges\":[],\"simplicials\":[],\"hyperedges\":[],\"nodes\":all_graphs[0][\"node\"]})\n",
    "    \n",
    "    final_json = {\"graphs\":graphs}\n",
    "    print(final_json)\n",
    "    with open(\"../../Resources/output.json\", 'w') as json_file:\n",
    "        json.dump(final_json, json_file)"
   ]
  },
  {
   "cell_type": "code",
   "execution_count": 25,
   "metadata": {},
   "outputs": [],
   "source": [
    "def Graph_getLayout(all_graphs, layout_type):\n",
    "    \n",
    "    G = nx.Graph()\n",
    "    G.add_nodes_from(all_graphs[0][\"node\"])\n",
    "    G.add_edges_from(all_graphs[0][\"edges\"])\n",
    "    \n",
    "    pos = []\n",
    "    node_cord = []       \n",
    "    \n",
    "    try:\n",
    "        if (layout_type == \"circular\"):\n",
    "            pos=nx.circular_layout(G)\n",
    "        \n",
    "        elif (layout_type == \"random\"):\n",
    "            pos=nx.random_layout(G)\n",
    "        \n",
    "        elif (layout_type == \"spring\"):\n",
    "            pos=nx.spring_layout(G)\n",
    "        \n",
    "        elif (layout_type == \"spectral\"):\n",
    "            pos=nx.spectral_layout(G)\n",
    "        \n",
    "        else:\n",
    "            pos=nx.fruchterman_reingold_layout(G)            \n",
    "            \n",
    "        for each_pos in pos.keys():\n",
    "            pixel_cord = pos[each_pos]\n",
    "            #node_cord.append({\"node_id\": each_pos, \"x\": str(round(pixel_cord[0],3)), \"y\": str(round(pixel_cord[1],3))})\n",
    "            node_cord.append({\"node_id\": each_pos, \"x\": str(pixel_cord[0]), \"y\": str(pixel_cord[1])})\n",
    "        \n",
    "    except:         \n",
    "        node_cord.append({\"node_id\": -1, \"x\": str(-1), \"y\": str(-1)})\n",
    "        \n",
    "    final_json = {\"node_cord\": node_cord}\n",
    "    print(final_json)\n",
    "    with open(\"../../Resources/output.json\", 'w') as json_file:\n",
    "        json.dump(final_json, json_file)\n",
    "    \n",
    "    return G, pos"
   ]
  },
  {
   "cell_type": "code",
   "execution_count": 26,
   "metadata": {},
   "outputs": [
    {
     "ename": "FileNotFoundError",
     "evalue": "[Errno 2] No such file or directory: '../../Resources/data.json'",
     "output_type": "error",
     "traceback": [
      "\u001b[1;31m---------------------------------------------------------------------------\u001b[0m",
      "\u001b[1;31mFileNotFoundError\u001b[0m                         Traceback (most recent call last)",
      "\u001b[1;32m<ipython-input-26-2b973acf2538>\u001b[0m in \u001b[0;36m<module>\u001b[1;34m\u001b[0m\n\u001b[1;32m----> 1\u001b[1;33m \u001b[0mall_graphs\u001b[0m \u001b[1;33m=\u001b[0m \u001b[0munpackJson\u001b[0m\u001b[1;33m(\u001b[0m\u001b[1;33m)\u001b[0m\u001b[1;33m\u001b[0m\u001b[0m\n\u001b[0m\u001b[0;32m      2\u001b[0m \u001b[0mG\u001b[0m\u001b[1;33m,\u001b[0m \u001b[0mpos\u001b[0m \u001b[1;33m=\u001b[0m \u001b[0mGraph_getLayout\u001b[0m\u001b[1;33m(\u001b[0m\u001b[0mall_graphs\u001b[0m\u001b[1;33m,\u001b[0m \u001b[1;34m\"circular\"\u001b[0m\u001b[1;33m)\u001b[0m\u001b[1;33m\u001b[0m\u001b[0m\n\u001b[0;32m      3\u001b[0m \u001b[1;31m# packJson(G)\u001b[0m\u001b[1;33m\u001b[0m\u001b[1;33m\u001b[0m\u001b[0m\n\u001b[0;32m      4\u001b[0m \u001b[1;33m\u001b[0m\u001b[0m\n\u001b[0;32m      5\u001b[0m \u001b[0mnx\u001b[0m\u001b[1;33m.\u001b[0m\u001b[0mdraw\u001b[0m\u001b[1;33m(\u001b[0m\u001b[0mG\u001b[0m\u001b[1;33m,\u001b[0m \u001b[0mwith_labels\u001b[0m\u001b[1;33m=\u001b[0m\u001b[1;32mTrue\u001b[0m\u001b[1;33m,\u001b[0m \u001b[0mnode_size\u001b[0m\u001b[1;33m=\u001b[0m\u001b[1;36m1500\u001b[0m\u001b[1;33m,\u001b[0m \u001b[0mnode_color\u001b[0m\u001b[1;33m=\u001b[0m\u001b[1;34m\"skyblue\"\u001b[0m\u001b[1;33m,\u001b[0m \u001b[0mpos\u001b[0m\u001b[1;33m=\u001b[0m\u001b[0mpos\u001b[0m\u001b[1;33m)\u001b[0m\u001b[1;33m\u001b[0m\u001b[0m\n",
      "\u001b[1;32m<ipython-input-4-c045cc429b41>\u001b[0m in \u001b[0;36munpackJson\u001b[1;34m()\u001b[0m\n\u001b[0;32m      1\u001b[0m \u001b[1;32mdef\u001b[0m \u001b[0munpackJson\u001b[0m\u001b[1;33m(\u001b[0m\u001b[1;33m)\u001b[0m\u001b[1;33m:\u001b[0m\u001b[1;33m\u001b[0m\u001b[0m\n\u001b[0;32m      2\u001b[0m \u001b[1;33m\u001b[0m\u001b[0m\n\u001b[1;32m----> 3\u001b[1;33m     \u001b[0mf\u001b[0m \u001b[1;33m=\u001b[0m \u001b[0mopen\u001b[0m\u001b[1;33m(\u001b[0m\u001b[1;34m\"../../Resources/data.json\"\u001b[0m\u001b[1;33m,\u001b[0m\u001b[1;33m)\u001b[0m\u001b[1;33m\u001b[0m\u001b[0m\n\u001b[0m\u001b[0;32m      4\u001b[0m     \u001b[0mgraph_dict\u001b[0m \u001b[1;33m=\u001b[0m \u001b[0mjson\u001b[0m\u001b[1;33m.\u001b[0m\u001b[0mload\u001b[0m\u001b[1;33m(\u001b[0m\u001b[0mf\u001b[0m\u001b[1;33m)\u001b[0m\u001b[1;33m\u001b[0m\u001b[0m\n\u001b[0;32m      5\u001b[0m     \u001b[1;31m#print(graph_dict)\u001b[0m\u001b[1;33m\u001b[0m\u001b[1;33m\u001b[0m\u001b[0m\n",
      "\u001b[1;31mFileNotFoundError\u001b[0m: [Errno 2] No such file or directory: '../../Resources/data.json'"
     ]
    }
   ],
   "source": [
    "all_graphs = unpackJson()\n",
    "G, pos = Graph_getLayout(all_graphs, \"circular\")\n",
    "# packJson(G)\n",
    "\n",
    "nx.draw(G, with_labels=True, node_size=1500, node_color=\"skyblue\", pos=pos)\n",
    "plt.title(\"circular\")\n",
    "\n",
    "plt.show()"
   ]
  },
  {
   "cell_type": "code",
   "execution_count": null,
   "metadata": {},
   "outputs": [],
   "source": [
    "G = graph_addition(unpackJson())\n",
    "packJson(G)"
   ]
  },
  {
   "cell_type": "code",
   "execution_count": 29,
   "metadata": {},
   "outputs": [
    {
     "name": "stdout",
     "output_type": "stream",
     "text": [
      "\n",
      "{'edges': [], 'simplicials': [], 'hyperedges': [], 'nodes': [1, 2, 4, 6, 5, 7]}\n"
     ]
    }
   ],
   "source": [
    "all_graphs = unpackWeightedJson()\n",
    "print(all_graphs)\n",
    "args = \"shortestpath_1_7\".split(\"_\")\n",
    "source, target =  args[1], args[-1]\n",
    "find_shortest_path(all_graphs, int(source), int(target))\n",
    "# G = find_shortest_path(unpackJson(), 1, 3)"
   ]
  },
  {
   "cell_type": "code",
   "execution_count": null,
   "metadata": {},
   "outputs": [],
   "source": [
    "all_graphs = unpackJson()\n",
    "degree_centrality(all_graphs)\n",
    "# G = find_shortest_path(unpackJson(), 1, 3)"
   ]
  },
  {
   "cell_type": "code",
   "execution_count": null,
   "metadata": {},
   "outputs": [],
   "source": [
    "all_graphs = unpackJson()\n",
    "community_detection(all_graphs)"
   ]
  },
  {
   "cell_type": "code",
   "execution_count": null,
   "metadata": {},
   "outputs": [],
   "source": []
  }
 ],
 "metadata": {
  "kernelspec": {
   "display_name": "Python 3",
   "language": "python",
   "name": "python3"
  },
  "language_info": {
   "codemirror_mode": {
    "name": "ipython",
    "version": 3
   },
   "file_extension": ".py",
   "mimetype": "text/x-python",
   "name": "python",
   "nbconvert_exporter": "python",
   "pygments_lexer": "ipython3",
   "version": "3.6.4"
  }
 },
 "nbformat": 4,
 "nbformat_minor": 2
}
